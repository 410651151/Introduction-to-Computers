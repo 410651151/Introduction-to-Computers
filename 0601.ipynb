{
  "nbformat": 4,
  "nbformat_minor": 0,
  "metadata": {
    "colab": {
      "name": "0601.ipynb",
      "provenance": [],
      "authorship_tag": "ABX9TyPYJW+FH34iTpIgstWIWnOh",
      "include_colab_link": true
    },
    "kernelspec": {
      "name": "python3",
      "display_name": "Python 3"
    },
    "language_info": {
      "name": "python"
    }
  },
  "cells": [
    {
      "cell_type": "markdown",
      "metadata": {
        "id": "view-in-github",
        "colab_type": "text"
      },
      "source": [
        "<a href=\"https://colab.research.google.com/github/410651151/Introduction-to-Computers/blob/main/0601.ipynb\" target=\"_parent\"><img src=\"https://colab.research.google.com/assets/colab-badge.svg\" alt=\"Open In Colab\"/></a>"
      ]
    },
    {
      "cell_type": "code",
      "execution_count": 3,
      "metadata": {
        "colab": {
          "base_uri": "https://localhost:8080/"
        },
        "id": "T2VS45S2HJZl",
        "outputId": "d03b3f4e-5b99-4cef-a8ad-a90dbc6c9088"
      },
      "outputs": [
        {
          "output_type": "stream",
          "name": "stdout",
          "text": [
            "2 * 1 =  22 * 2 =  42 * 3 =  62 * 4 =  82 * 5 = 102 * 6 = 122 * 7 = 142 * 8 = 162 * 9 = 18\n",
            "3 * 1 =  33 * 2 =  63 * 3 =  93 * 4 = 123 * 5 = 153 * 6 = 183 * 7 = 213 * 8 = 243 * 9 = 27\n",
            "4 * 1 =  44 * 2 =  84 * 3 = 124 * 4 = 164 * 5 = 204 * 6 = 244 * 7 = 284 * 8 = 324 * 9 = 36\n",
            "5 * 1 =  55 * 2 = 105 * 3 = 155 * 4 = 205 * 5 = 255 * 6 = 305 * 7 = 355 * 8 = 405 * 9 = 45\n",
            "6 * 1 =  66 * 2 = 126 * 3 = 186 * 4 = 246 * 5 = 306 * 6 = 366 * 7 = 426 * 8 = 486 * 9 = 54\n",
            "7 * 1 =  77 * 2 = 147 * 3 = 217 * 4 = 287 * 5 = 357 * 6 = 427 * 7 = 497 * 8 = 567 * 9 = 63\n",
            "8 * 1 =  88 * 2 = 168 * 3 = 248 * 4 = 328 * 5 = 408 * 6 = 488 * 7 = 568 * 8 = 648 * 9 = 72\n",
            "9 * 1 =  99 * 2 = 189 * 3 = 279 * 4 = 369 * 5 = 459 * 6 = 549 * 7 = 639 * 8 = 729 * 9 = 81\n"
          ]
        }
      ],
      "source": [
        "for i in range (2,10):\n",
        "  for j in range(1,10):\n",
        "    product = i*j\n",
        "    print('%d * %d = %2d' % (i,j,product), end = '')\n",
        "  print()"
      ]
    },
    {
      "cell_type": "code",
      "source": [
        "a = int(input('請輸入a的值:'))\n",
        "b = int(input('請輸入b的值:'))\n",
        "\n",
        "maxno = a*b\n",
        "for i in range(1,maxno + 1):\n",
        "  if(i%a==0 and i%b==0):\n",
        "    break\n",
        "print('%d 和 %d 的最小公倍數= %d'%(a,b,i))"
      ],
      "metadata": {
        "colab": {
          "base_uri": "https://localhost:8080/"
        },
        "id": "ShCM8DKmH96Z",
        "outputId": "696586c5-ed46-4d35-dd33-3937f0a237fe"
      },
      "execution_count": 10,
      "outputs": [
        {
          "output_type": "stream",
          "name": "stdout",
          "text": [
            "請輸入a的值:5\n",
            "請輸入b的值:4\n",
            "5 和 4 的最小公倍數= 20\n"
          ]
        }
      ]
    },
    {
      "cell_type": "code",
      "source": [
        "n = int(input('請輸入一個正整數:'))\n",
        "for i in range(1,n+1):\n",
        "  if i % 5 == 0:\n",
        "    continue\n",
        "  print(i,end = ' ')"
      ],
      "metadata": {
        "colab": {
          "base_uri": "https://localhost:8080/"
        },
        "id": "a6YkP-UVJTEJ",
        "outputId": "31a26ec9-ab2b-4e80-f6de-984d644b7576"
      },
      "execution_count": 11,
      "outputs": [
        {
          "output_type": "stream",
          "name": "stdout",
          "text": [
            "請輸入一個正整數:25\n",
            "1 2 3 4 6 7 8 9 11 12 13 14 16 17 18 19 21 22 23 24 "
          ]
        }
      ]
    },
    {
      "cell_type": "code",
      "source": [
        "total = n = 0\n",
        "while(n<10):\n",
        "  n  += 1\n",
        "  total += n\n",
        "print(total)\n"
      ],
      "metadata": {
        "colab": {
          "base_uri": "https://localhost:8080/"
        },
        "id": "ngG9zdQwJy11",
        "outputId": "26d67860-afbc-43d7-af9a-e64ec7e1e69a"
      },
      "execution_count": 12,
      "outputs": [
        {
          "output_type": "stream",
          "name": "stdout",
          "text": [
            "55\n"
          ]
        }
      ]
    },
    {
      "cell_type": "code",
      "source": [
        "total = n = 0\n",
        "while(n<=10):\n",
        "  total += n\n",
        "  n += 1\n",
        "print(total)\n"
      ],
      "metadata": {
        "colab": {
          "base_uri": "https://localhost:8080/"
        },
        "id": "5ko7Z0PqLEQl",
        "outputId": "1f20662e-9322-410d-d0c3-e29b1ac9a385"
      },
      "execution_count": 13,
      "outputs": [
        {
          "output_type": "stream",
          "name": "stdout",
          "text": [
            "55\n"
          ]
        }
      ]
    },
    {
      "cell_type": "code",
      "source": [
        "total = n = 0\n",
        "whilen<=10:\n",
        "  total += n\n",
        "  n += 1\n",
        "print(total)"
      ],
      "metadata": {
        "colab": {
          "base_uri": "https://localhost:8080/",
          "height": 130
        },
        "id": "IreO2MQoLYhY",
        "outputId": "2041486d-2081-403e-81a3-9489d124e174"
      },
      "execution_count": 14,
      "outputs": [
        {
          "output_type": "error",
          "ename": "SyntaxError",
          "evalue": "ignored",
          "traceback": [
            "\u001b[0;36m  File \u001b[0;32m\"<ipython-input-14-83b10da55643>\"\u001b[0;36m, line \u001b[0;32m2\u001b[0m\n\u001b[0;31m    whilen<=10:\u001b[0m\n\u001b[0m               ^\u001b[0m\n\u001b[0;31mSyntaxError\u001b[0m\u001b[0;31m:\u001b[0m invalid syntax\n"
          ]
        }
      ]
    },
    {
      "cell_type": "code",
      "source": [
        "total = i = 1\n",
        "n = int(input('請輸入正整數n的值:'))\n",
        "while i <= n:\n",
        "  total*=i\n",
        "  i += 1\n",
        "print('%di = %d'%(n,total))"
      ],
      "metadata": {
        "colab": {
          "base_uri": "https://localhost:8080/"
        },
        "id": "FzlvC6LkLgQA",
        "outputId": "47140fdc-4e6f-4937-d4cc-261d8ab0fec9"
      },
      "execution_count": 15,
      "outputs": [
        {
          "output_type": "stream",
          "name": "stdout",
          "text": [
            "請輸入正整數n的值:5\n",
            "5i = 120\n"
          ]
        }
      ]
    },
    {
      "cell_type": "code",
      "source": [
        "total = n = 0\n",
        "while n <= 50 and n%2 == 0:\n",
        "  total+=n\n",
        "  n+=2\n",
        "print('0~50的偶數和結果是',total)\n",
        "\n",
        "total = m = 1\n",
        "while m+2 <=50:\n",
        "  m += 2\n",
        "  total+=m\n",
        "print('0~50的奇數和結果是',total)"
      ],
      "metadata": {
        "colab": {
          "base_uri": "https://localhost:8080/"
        },
        "id": "yOIo7Emhigrq",
        "outputId": "d916f327-8e9f-4c1c-87af-9ac79e5e5b63"
      },
      "execution_count": 16,
      "outputs": [
        {
          "output_type": "stream",
          "name": "stdout",
          "text": [
            "0~50的偶數和結果是 650\n",
            "0~50的奇數和結果是 625\n"
          ]
        }
      ]
    },
    {
      "cell_type": "code",
      "source": [
        "a = int(input('請輸入正整數:'))\n",
        "for i in range(a,0,-1):\n",
        "  for j in range(i,0,-1):\n",
        "    print('*',end = '')\n",
        "  print()\n",
        "a = int(input('請輸入正整數:'))\n",
        "for i in range(a,0,-1):\n",
        "  for j in range(i,0,-1):\n",
        "    print('*',end = '')\n",
        "  print()"
      ],
      "metadata": {
        "colab": {
          "base_uri": "https://localhost:8080/"
        },
        "id": "-QZyK1G3jriY",
        "outputId": "dd5e7d8c-5ffb-432e-9537-875f7e138d00"
      },
      "execution_count": 17,
      "outputs": [
        {
          "output_type": "stream",
          "name": "stdout",
          "text": [
            "請輸入正整數:7\n",
            "*******\n",
            "******\n",
            "*****\n",
            "****\n",
            "***\n",
            "**\n",
            "*\n",
            "請輸入正整數:5\n",
            "*****\n",
            "****\n",
            "***\n",
            "**\n",
            "*\n"
          ]
        }
      ]
    },
    {
      "cell_type": "code",
      "source": [
        "total = 0\n",
        "for n in range(1,101):\n",
        "  if n%3 == 0 or n%7 == 0:\n",
        "    total += n\n",
        "print('數值1~100中，所有是3或7倍數的數之總和=',total)"
      ],
      "metadata": {
        "colab": {
          "base_uri": "https://localhost:8080/"
        },
        "id": "QaDYBNUDkikh",
        "outputId": "897ca998-f7cb-427e-f132-c20c21294015"
      },
      "execution_count": 20,
      "outputs": [
        {
          "output_type": "stream",
          "name": "stdout",
          "text": [
            "數值1~100中，所有是3或7倍數的數之總和= 2208\n"
          ]
        }
      ]
    },
    {
      "cell_type": "code",
      "source": [
        "a = int(input('請輸入正整數:'))\n",
        "j = 0\n",
        "print(a,'的因數有',end = ' ')\n",
        "for y in range(1,a+1):\n",
        "  if a % y == 0:\n",
        "    j+=1\n",
        "    print(y,end = ' ')\n",
        "if j == 2:\n",
        "  print()\n",
        "  print(a,'是質數')\n",
        "else:\n",
        "  print()\n",
        "  print(a,'不是質數')"
      ],
      "metadata": {
        "colab": {
          "base_uri": "https://localhost:8080/"
        },
        "id": "LjUUXJvTldYz",
        "outputId": "371abd6a-0e8a-423f-cc4f-f5842ba573d5"
      },
      "execution_count": 21,
      "outputs": [
        {
          "output_type": "stream",
          "name": "stdout",
          "text": [
            "請輸入正整數:12\n",
            "12 的因數有 1 2 3 4 6 12 \n",
            "12 不是質數\n"
          ]
        }
      ]
    },
    {
      "cell_type": "code",
      "source": [
        "a = int(input('請輸入正整數:'))\n",
        "j = 0\n",
        "print(a,'的因數有',end = ' ')\n",
        "for y in range(1,a+1):\n",
        "  if a % y == 0:\n",
        "    j+=1\n",
        "    print(y,end = ' ')\n",
        "if j == 2:\n",
        "  print()\n",
        "  print(a,'是質數')\n",
        "else:\n",
        "  print()\n",
        "  print(a,'不是質數')"
      ],
      "metadata": {
        "colab": {
          "base_uri": "https://localhost:8080/"
        },
        "id": "ArLxi6tSmmKW",
        "outputId": "800992af-9e5c-4f29-f059-2a4139815148"
      },
      "execution_count": 22,
      "outputs": [
        {
          "output_type": "stream",
          "name": "stdout",
          "text": [
            "請輸入正整數:11\n",
            "11 的因數有 1 11 \n",
            "11 是質數\n"
          ]
        }
      ]
    },
    {
      "cell_type": "code",
      "source": [
        ""
      ],
      "metadata": {
        "id": "Mlpd1Dy_mtOP"
      },
      "execution_count": null,
      "outputs": []
    }
  ]
}