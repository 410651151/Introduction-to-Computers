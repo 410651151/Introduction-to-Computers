{
  "nbformat": 4,
  "nbformat_minor": 0,
  "metadata": {
    "colab": {
      "name": "0511.ipynb",
      "provenance": [],
      "authorship_tag": "ABX9TyN0W47fH8Fysdi9HwMp5bGd",
      "include_colab_link": true
    },
    "kernelspec": {
      "name": "python3",
      "display_name": "Python 3"
    },
    "language_info": {
      "name": "python"
    }
  },
  "cells": [
    {
      "cell_type": "markdown",
      "metadata": {
        "id": "view-in-github",
        "colab_type": "text"
      },
      "source": [
        "<a href=\"https://colab.research.google.com/github/410651151/Introduction-to-Computers/blob/main/0511.ipynb\" target=\"_parent\"><img src=\"https://colab.research.google.com/assets/colab-badge.svg\" alt=\"Open In Colab\"/></a>"
      ]
    },
    {
      "cell_type": "code",
      "execution_count": 1,
      "metadata": {
        "colab": {
          "base_uri": "https://localhost:8080/"
        },
        "id": "fSMGN8CzeD2H",
        "outputId": "e8757910-ad00-4709-b2e1-ba8eb2c3ba8e"
      },
      "outputs": [
        {
          "output_type": "stream",
          "name": "stdout",
          "text": [
            "test\n"
          ]
        }
      ],
      "source": [
        "print('test')"
      ]
    },
    {
      "cell_type": "code",
      "source": [
        "temp = float(input('請輸入你的體溫'))\n",
        "if temp >= 37.5:\n",
        "    print('體溫過高!')\n",
        "elif temp >= 37 and temp < 37.4:\n",
        "    print('體溫略高!')\n",
        "elif temp >= 34 and temp < 36.9:\n",
        "    print('體溫正常!')\n",
        "else:\n",
        "    print('體溫異常,請重新量測!')"
      ],
      "metadata": {
        "colab": {
          "base_uri": "https://localhost:8080/"
        },
        "id": "fQjWgEB4eOH-",
        "outputId": "62a9ddf1-5f80-4cee-dbca-7ffc30be107c"
      },
      "execution_count": 4,
      "outputs": [
        {
          "output_type": "stream",
          "name": "stdout",
          "text": [
            "請輸入你的體溫37.5\n",
            "體溫過高!\n"
          ]
        }
      ]
    },
    {
      "cell_type": "code",
      "source": [
        "money = int(input('請輸入購物金額: '))\n",
        "if (money >= 10000):\n",
        "    if(money >= 100000):\n",
        "      print('八折',money * 0.8, end = '元\\n')\n",
        "    elif(money >= 50000):\n",
        "      print('八五折',money * 0.85, end = '元\\n')\n",
        "    elif(money >= 30000):\n",
        "      print('九折',money * 0.9, end = '元\\n')\n",
        "    else:\n",
        "      print('九五折',money * 0.95, end = '元\\n')\n",
        "else:\n",
        "    print('沒打折',money, end = '元\\n')\n",
        "money = int(input('請輸入購物金額: '))\n",
        "if (money >= 10000):\n",
        "    if(money >= 100000):\n",
        "      print('八折',money * 0.8, end = '元\\n')\n",
        "    elif(money >= 50000):\n",
        "      print('八五折',money * 0.85, end = '元\\n')\n",
        "    elif(money >= 30000):\n",
        "      print('九折',money * 0.9, end = '元\\n')\n",
        "    else:\n",
        "      print('九五折',money * 0.95, end = '元\\n')\n",
        "else:\n",
        "    print('沒打折',money, end = '元\\n')"
      ],
      "metadata": {
        "colab": {
          "base_uri": "https://localhost:8080/"
        },
        "id": "JV8uc4UkhjUG",
        "outputId": "59c74dc8-1c36-4be3-dda1-c851ff099e13"
      },
      "execution_count": 34,
      "outputs": [
        {
          "output_type": "stream",
          "name": "stdout",
          "text": [
            "請輸入購物金額: 100\n",
            "沒打折 100元\n",
            "請輸入購物金額: 100000\n",
            "八折 80000.0元\n"
          ]
        }
      ]
    },
    {
      "cell_type": "code",
      "source": [
        "month = int(input('輸入月份：'))\n",
        "if(month >= 1 and month <= 12):\n",
        "  if(month == 3 or month == 4 or month == 5):\n",
        "      print(month,'月是春天!')\n",
        "  elif(month == 6 or month == 7 or month == 8):\n",
        "      print(month,'月是夏天!')\n",
        "  elif(month == 9 or month == 10 or month == 11):\n",
        "      print(month,'月是秋天!')\n",
        "  elif(month == 12 or month == 1 or month == 2):\n",
        "      print(month,'月是冬天!')\n",
        "else:\n",
        "    print('月份不在範圍內!')\n",
        "  \n",
        "\n"
      ],
      "metadata": {
        "colab": {
          "base_uri": "https://localhost:8080/"
        },
        "id": "d1F1ra9HBIMu",
        "outputId": "ced5451d-57d4-487f-db76-3aa9c07efb09"
      },
      "execution_count": 29,
      "outputs": [
        {
          "output_type": "stream",
          "name": "stdout",
          "text": [
            "輸入月份：13\n",
            "月份不在範圍內!\n"
          ]
        }
      ]
    },
    {
      "cell_type": "code",
      "source": [
        "income = int(input('請輸入今年收入淨額'))\n",
        "if(income >= 300000):\n",
        "  if(income >= 300000 and income < 600000):\n",
        "      print('付稅金額:', income * 0.06, end = '元\\n')\n",
        "  elif(income >= 600000 and income < 1000000):\n",
        "      print('付稅金額:', income * 0.13, end = '元\\n')\n",
        "  elif(income >= 1000000 and income < 2000000):\n",
        "      print('付稅金額:', income * 0.21, end = '元\\n')\n",
        "  elif(income >= 2000000):\n",
        "      print('付稅金額:', income * 0.3, end = '元\\n')\n",
        "else:\n",
        "    print('付稅金額:', income * 0, end = '元\\n')\n",
        "income = int(input('請輸入今年收入淨額'))\n",
        "if(income >= 300000):\n",
        "  if(income >= 300000 and income < 600000):\n",
        "      print('付稅金額:', income * 0.06, end = '元\\n')\n",
        "  elif(income >= 600000 and income < 1000000):\n",
        "      print('付稅金額:', income * 0.13, end = '元\\n')\n",
        "  elif(income >= 1000000 and income < 2000000):\n",
        "      print('付稅金額:', income * 0.21, end = '元\\n')\n",
        "  elif(income >= 2000000):\n",
        "      print('付稅金額:', income * 0.3, end = '元\\n')\n",
        "else:\n",
        "    print('付稅金額:', income * 0, end = '元\\n')"
      ],
      "metadata": {
        "colab": {
          "base_uri": "https://localhost:8080/"
        },
        "id": "mba9_6MOOFlf",
        "outputId": "b0d125e3-0d5f-4277-81f1-3e6dc734bacb"
      },
      "execution_count": 33,
      "outputs": [
        {
          "output_type": "stream",
          "name": "stdout",
          "text": [
            "請輸入今年收入淨額100000\n",
            "付稅金額: 0元\n",
            "請輸入今年收入淨額2000000\n",
            "付稅金額: 600000.0元\n"
          ]
        }
      ]
    },
    {
      "cell_type": "code",
      "source": [
        "score = float(input('請輸入成績'))\n",
        "if(score >= 0 and score <= 100):\n",
        "  if(score >= 90):\n",
        "      print('A')\n",
        "  elif(score >= 80 and score < 90):\n",
        "      print('B') \n",
        "  elif(score >= 70 and score < 80):\n",
        "      print('C')\n",
        "  elif(score >= 60 and score < 70):\n",
        "      print('D')\n",
        "  elif(score < 60):\n",
        "      print('E')\n",
        "else:\n",
        "    print('')\n",
        "score = float(input('請輸入成績'))\n",
        "if(score >= 0 and score <= 100):\n",
        "  if(score >= 90):\n",
        "      print('A')\n",
        "  elif(score >= 80 and score < 90):\n",
        "      print('B') \n",
        "  elif(score >= 70 and score < 80):\n",
        "      print('C')\n",
        "  elif(score >= 60 and score < 70):\n",
        "      print('D')\n",
        "  elif(score < 60):\n",
        "      print('E')\n",
        "else:\n",
        "    print('')\n",
        "score = float(input('請輸入成績'))\n",
        "if(score >= 0 and score <= 100):\n",
        "  if(score >= 90):\n",
        "      print('A')\n",
        "  elif(score >= 80 and score < 90):\n",
        "      print('B') \n",
        "  elif(score >= 70 and score < 80):\n",
        "      print('C')\n",
        "  elif(score >= 60 and score < 70):\n",
        "      print('D')\n",
        "  elif(score < 60):\n",
        "      print('E')\n",
        "else:\n",
        "    print('')\n",
        "    "
      ],
      "metadata": {
        "colab": {
          "base_uri": "https://localhost:8080/"
        },
        "id": "j6bIKb5BWnd5",
        "outputId": "2376c27e-4bf4-430b-d4e2-b69f92067d08"
      },
      "execution_count": 40,
      "outputs": [
        {
          "output_type": "stream",
          "name": "stdout",
          "text": [
            "請輸入成績90\n",
            "A\n",
            "請輸入成績80\n",
            "B\n",
            "請輸入成績50\n",
            "E\n"
          ]
        }
      ]
    },
    {
      "cell_type": "code",
      "source": [
        ""
      ],
      "metadata": {
        "id": "ozFIjcTEalst"
      },
      "execution_count": null,
      "outputs": []
    }
  ]
}